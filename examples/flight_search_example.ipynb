{
 "cells": [
  {
   "cell_type": "markdown",
   "metadata": {},
   "source": [
    "# Flight Search Example using AI Agent\n",
    "\n",
    "This notebook demonstrates how to use the AI agent to search for flights on Kayak.com"
   ]
  },
  {
   "cell_type": "code",
   "execution_count": null,
   "metadata": {},
   "outputs": [],
   "source": [
    "import datetime\n",
    "import os\n",
    "from langchain_openai import ChatOpenAI\n",
    "from src.agent.service import AgentService\n",
    "from src.agent.service import AgentService\n",
    "from src.controller.service import ControllerService\n"
   ]
  },
  {
   "cell_type": "code",
   "execution_count": null,
   "metadata": {},
   "outputs": [],
   "source": [
    "# Setup helper function for organizing outputs\n",
    "def setup_run_folder(timestamp_prefix: str) -> str:\n",
    "\ttimestamp = f'{timestamp_prefix}_{datetime.datetime.now().strftime(\"%Y-%m-%d\")}'\n",
    "\trun_folder = f'temp/{timestamp}'\n",
    "\tif not os.path.exists(run_folder):\n",
    "\t\tos.makedirs(run_folder)\n",
    "\treturn run_folder"
   ]
  },
  {
   "cell_type": "code",
   "execution_count": null,
   "metadata": {},
   "outputs": [],
   "source": [
    "task = 'Go to kayak.com and find a flight from Zürich to Tokyo on 2024-12-25 for 2 people one way.'\n",
    "run_folder = setup_run_folder('kayak_flight_search')\n",
    "controller = ControllerService()\n",
    "model = ChatOpenAI(model='gpt-4o')\n",
    "agent = AgentService(task, model, controller, use_vision=True)\n"
   ]
  },
  {
   "cell_type": "code",
   "execution_count": null,
   "metadata": {},
   "outputs": [],
   "source": [
    "# Run the agent step by step\n",
    "\n",
    "max_steps = 50\n",
    "for i in range(max_steps):\n",
    "\tprint(f'\\n📍 Step {i+1}')\n",
    "\taction, result = await agent.step()\n",
    "\n",
    "\tprint('Action:', action)\n",
    "\tprint('Result:', result)\n",
    "\n",
    "\tif result.done:\n",
    "\t\tprint('\\n✅ Task completed successfully!')\n",
    "\t\tbreak\n"
   ]
  }
 ],
 "metadata": {
  "kernelspec": {
   "display_name": "Python 3",
   "language": "python",
   "name": "python3"
  }
 },
 "nbformat": 4,
 "nbformat_minor": 2
}
